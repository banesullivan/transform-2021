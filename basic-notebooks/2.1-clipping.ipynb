{
  "cells": [
    {
      "cell_type": "code",
      "execution_count": null,
      "metadata": {
        "collapsed": false
      },
      "outputs": [],
      "source": [
        "%matplotlib inline\nfrom pyvista import set_plot_theme\nset_plot_theme('document')"
      ]
    },
    {
      "cell_type": "markdown",
      "metadata": {},
      "source": [
        "\n# Clipping with Planes & Boxes\n\nClip/cut any dataset using using planes or boxes.\n"
      ]
    },
    {
      "cell_type": "code",
      "execution_count": null,
      "metadata": {
        "collapsed": false
      },
      "outputs": [],
      "source": [
        "# sphinx_gallery_thumbnail_number = 2\nimport pyvista as pv\nfrom pyvista import examples"
      ]
    },
    {
      "cell_type": "markdown",
      "metadata": {},
      "source": [
        "## Clip with Plane\n\nClip any dataset by a user defined plane using the\n:func:`pyvista.DataSetFilters.clip` filter\n\n"
      ]
    },
    {
      "cell_type": "code",
      "execution_count": null,
      "metadata": {
        "collapsed": false
      },
      "outputs": [],
      "source": [
        "dataset = examples.download_bunny_coarse()\nclipped = dataset.clip('y', invert=False)\n\np = pv.Plotter()\np.add_mesh(dataset, style='wireframe', color='blue', label='Input')\np.add_mesh(clipped, label='Clipped')\np.add_legend()\np.camera_position = [(0.24, 0.32, 0.7),\n                     (0.02, 0.03, -0.02),\n                     (-0.12, 0.93, -0.34)]\np.show()"
      ]
    },
    {
      "cell_type": "markdown",
      "metadata": {},
      "source": [
        "## Clip with Bounds\n\nClip any dataset by a set of XYZ bounds using the\n:func:`pyvista.DataSetFilters.clip_box` filter.\n\n"
      ]
    },
    {
      "cell_type": "code",
      "execution_count": null,
      "metadata": {
        "collapsed": false
      },
      "outputs": [],
      "source": [
        "dataset = examples.download_office()\n\nbounds = [2,4.5, 2,4.5, 1,3]\nclipped = dataset.clip_box(bounds)\n\np = pv.Plotter()\np.add_mesh(dataset, style='wireframe', color='blue', label='Input')\np.add_mesh(clipped, label='Clipped')\np.add_legend()\np.show()"
      ]
    },
    {
      "cell_type": "markdown",
      "metadata": {},
      "source": [
        "## Clip with Rotated Box\n\nClip any dataset by an arbitrarily rotated solid box using the\n:func:`pyvista.DataSetFilters.clip_box` filter.\n\n"
      ]
    },
    {
      "cell_type": "code",
      "execution_count": null,
      "metadata": {
        "collapsed": false
      },
      "outputs": [],
      "source": [
        "mesh = examples.load_airplane()\n\n# Use `pv.Box()` or `pv.Cube()` to create a region of interest\nroi = pv.Cube(center=(0.9e3, 0.2e3, mesh.center[2]),\n              x_length=500, y_length=500, z_length=500)\nroi.rotate_z(33)\n\np = pv.Plotter()\np.add_mesh(roi, opacity=0.75, color=\"red\")\np.add_mesh(mesh, opacity=0.5)\np.show()"
      ]
    },
    {
      "cell_type": "markdown",
      "metadata": {},
      "source": [
        "Run the box clipping algorithm\n\n"
      ]
    },
    {
      "cell_type": "code",
      "execution_count": null,
      "metadata": {
        "collapsed": false
      },
      "outputs": [],
      "source": [
        "extracted = mesh.clip_box(roi, invert=False)\n\np = pv.Plotter(shape=(1,2))\np.add_mesh(roi, opacity=0.75, color=\"red\")\np.add_mesh(mesh)\np.subplot(0,1)\np.add_mesh(extracted)\np.add_mesh(roi, opacity=0.75, color=\"red\")\np.link_views()\np.view_isometric()\np.show()"
      ]
    }
  ],
  "metadata": {
    "kernelspec": {
      "display_name": "Python 3",
      "language": "python",
      "name": "python3"
    },
    "language_info": {
      "codemirror_mode": {
        "name": "ipython",
        "version": 3
      },
      "file_extension": ".py",
      "mimetype": "text/x-python",
      "name": "python",
      "nbconvert_exporter": "python",
      "pygments_lexer": "ipython3",
      "version": "3.7.10"
    }
  },
  "nbformat": 4,
  "nbformat_minor": 0
}