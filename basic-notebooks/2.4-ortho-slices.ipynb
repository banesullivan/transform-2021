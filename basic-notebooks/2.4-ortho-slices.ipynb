{
  "cells": [
    {
      "cell_type": "code",
      "execution_count": null,
      "metadata": {
        "collapsed": false
      },
      "outputs": [],
      "source": [
        "%matplotlib inline\nfrom pyvista import set_plot_theme\nset_plot_theme('document')"
      ]
    },
    {
      "cell_type": "markdown",
      "metadata": {},
      "source": [
        "\n# Orthogonal Slices\n\nView three orthogonal slices from a mesh.\n\nUse the :func:`pyvista.DataSetFilters.slice_orthogonal` filter to create these\nslices simultaneously.\n"
      ]
    },
    {
      "cell_type": "code",
      "execution_count": null,
      "metadata": {
        "collapsed": false
      },
      "outputs": [],
      "source": [
        "# sphinx_gallery_thumbnail_number = 2\nimport pyvista as pv\nfrom pyvista import examples\n\nmesh = examples.download_embryo()\nmesh.bounds"
      ]
    },
    {
      "cell_type": "markdown",
      "metadata": {},
      "source": [
        "Create three slices. Easily control their locations with the ``x``, ``y``,\nand ``z`` arguments.\n\n"
      ]
    },
    {
      "cell_type": "code",
      "execution_count": null,
      "metadata": {
        "collapsed": false
      },
      "outputs": [],
      "source": [
        "slices = mesh.slice_orthogonal(x=100, z=75)"
      ]
    },
    {
      "cell_type": "code",
      "execution_count": null,
      "metadata": {
        "collapsed": false
      },
      "outputs": [],
      "source": [
        "cpos = [(540.9115516905358, -617.1912234499737, 180.5084853429126),\n (128.31920055083387, 126.4977720785509, 111.77682599082095),\n (-0.1065160140819035, 0.032750075477590124, 0.9937714884722322)]\ndargs = dict(cmap='gist_ncar_r')\n\np = pv.Plotter()\np.add_mesh(slices, **dargs)\np.show_grid()\np.show(cpos=cpos)"
      ]
    },
    {
      "cell_type": "code",
      "execution_count": null,
      "metadata": {
        "collapsed": false
      },
      "outputs": [],
      "source": [
        "p = pv.Plotter(shape=(2,2))\n# XYZ - show 3D scene first\np.subplot(1,1)\np.add_mesh(slices, **dargs)\np.show_grid()\np.camera_position = cpos\n# XY\np.subplot(0,0)\np.add_mesh(slices, **dargs)\np.show_grid()\np.camera_position = 'xy'\np.enable_parallel_projection()\n# ZY\np.subplot(0,1)\np.add_mesh(slices, **dargs)\np.show_grid()\np.camera_position = 'zy'\np.enable_parallel_projection()\n# XZ\np.subplot(1,0)\np.add_mesh(slices, **dargs)\np.show_grid()\np.camera_position = 'xz'\np.enable_parallel_projection()\n\np.show()"
      ]
    }
  ],
  "metadata": {
    "kernelspec": {
      "display_name": "Python 3",
      "language": "python",
      "name": "python3"
    },
    "language_info": {
      "codemirror_mode": {
        "name": "ipython",
        "version": 3
      },
      "file_extension": ".py",
      "mimetype": "text/x-python",
      "name": "python",
      "nbconvert_exporter": "python",
      "pygments_lexer": "ipython3",
      "version": "3.7.10"
    }
  },
  "nbformat": 4,
  "nbformat_minor": 0
}