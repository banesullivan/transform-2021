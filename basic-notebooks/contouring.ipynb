{
  "cells": [
    {
      "cell_type": "code",
      "execution_count": null,
      "metadata": {
        "collapsed": false
      },
      "outputs": [],
      "source": [
        "%matplotlib inline\nfrom pyvista import set_plot_theme\nset_plot_theme('document')"
      ]
    },
    {
      "cell_type": "markdown",
      "metadata": {},
      "source": [
        "\n# Contouring\n\nGenerate iso-lines or -surfaces for the scalars of a surface or volume.\n\n3D meshes can have 2D iso-surfaces of a scalar field extracted and 2D surface\nmeshes can have 1D iso-lines of a scalar field extracted.\n"
      ]
    },
    {
      "cell_type": "code",
      "execution_count": null,
      "metadata": {
        "collapsed": false
      },
      "outputs": [],
      "source": [
        "from pyvista import examples\nimport pyvista as pv\nimport numpy as np"
      ]
    },
    {
      "cell_type": "markdown",
      "metadata": {},
      "source": [
        "## Iso-Lines\n\nLet's extract 1D iso-lines of a scalar field from a 2D surface mesh.\n\n"
      ]
    },
    {
      "cell_type": "code",
      "execution_count": null,
      "metadata": {
        "collapsed": false
      },
      "outputs": [],
      "source": [
        "mesh = examples.load_random_hills()\n\ncontours = mesh.contour()\n\np = pv.Plotter()\np.add_mesh(mesh, opacity=0.85)\np.add_mesh(contours, color=\"white\", line_width=5)\np.show()"
      ]
    },
    {
      "cell_type": "markdown",
      "metadata": {},
      "source": [
        "## Iso-Surfaces\n\nLet's extract 2D iso-surfaces of a scalar field from a 3D mesh.\n\n"
      ]
    },
    {
      "cell_type": "code",
      "execution_count": null,
      "metadata": {
        "collapsed": false
      },
      "outputs": [],
      "source": [
        "mesh = examples.download_embryo()\n\ncontours = mesh.contour(np.linspace(50, 200, 5))\n\np = pv.Plotter()\np.add_mesh(mesh.outline(), color=\"k\")\np.add_mesh(contours, opacity=0.25, clim=[0, 200])\np.camera_position = [(-130.99381142132086, 644.4868354828589, 163.80447435848686),\n (125.21748748157661, 123.94368717158413, 108.83283586619626),\n (0.2780372840777734, 0.03547871361794171, 0.9599148553609699)]\np.show()"
      ]
    }
  ],
  "metadata": {
    "kernelspec": {
      "display_name": "Python 3",
      "language": "python",
      "name": "python3"
    },
    "language_info": {
      "codemirror_mode": {
        "name": "ipython",
        "version": 3
      },
      "file_extension": ".py",
      "mimetype": "text/x-python",
      "name": "python",
      "nbconvert_exporter": "python",
      "pygments_lexer": "ipython3",
      "version": "3.7.10"
    }
  },
  "nbformat": 4,
  "nbformat_minor": 0
}