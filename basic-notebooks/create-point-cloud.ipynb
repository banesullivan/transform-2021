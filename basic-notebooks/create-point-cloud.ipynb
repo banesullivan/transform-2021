{
  "cells": [
    {
      "cell_type": "code",
      "execution_count": null,
      "metadata": {
        "collapsed": false
      },
      "outputs": [],
      "source": [
        "%matplotlib inline\nfrom pyvista import set_plot_theme\nset_plot_theme('document')"
      ]
    },
    {
      "cell_type": "markdown",
      "metadata": {},
      "source": [
        "\n\n# Create Point Cloud\n\nCreate a :class:`pyvista.PolyData` object from a point cloud of vertices and\nscalar arrays for those points.\n"
      ]
    },
    {
      "cell_type": "code",
      "execution_count": null,
      "metadata": {
        "collapsed": false
      },
      "outputs": [],
      "source": [
        "import numpy as np\nimport pyvista as pv\nfrom pyvista import examples"
      ]
    },
    {
      "cell_type": "markdown",
      "metadata": {},
      "source": [
        "Point clouds are generally constructed in the :class:`pyvista.PolyData` class\nand can easily have scalar/vector data arrays associated with the point\ncloud. In this example, we'll work a bit backwards using a point cloud that\nthat is available from our ``examples`` module. This however is no different\nthan creating a PyVista mesh with your own NumPy arrays of vertice locations.\n\n"
      ]
    },
    {
      "cell_type": "code",
      "execution_count": null,
      "metadata": {
        "collapsed": false
      },
      "outputs": [],
      "source": [
        "# Define some helpers - ignore these and use your own data!\ndef generate_points(subset=0.02):\n    \"\"\"A helper to make a 3D NumPy array of points (n_points by 3)\"\"\"\n    dataset = examples.download_lidar()\n    ids = np.random.randint(low=0, high=dataset.n_points-1,\n                            size=int(dataset.n_points * subset))\n    return dataset.points[ids]\n\n\npoints = generate_points()\n# Print first 5 rows to prove its a numpy array (n_points by 3)\n# Columns are (X Y Z)\npoints[0:5, :]"
      ]
    },
    {
      "cell_type": "markdown",
      "metadata": {},
      "source": [
        "Now that you have a NumPy array of points/vertices either from our sample\ndata or your own project, creating a PyVista mesh of those points is simply:\n\n"
      ]
    },
    {
      "cell_type": "code",
      "execution_count": null,
      "metadata": {
        "collapsed": false
      },
      "outputs": [],
      "source": [
        "point_cloud = pv.PolyData(points)\npoint_cloud"
      ]
    },
    {
      "cell_type": "markdown",
      "metadata": {},
      "source": [
        "And we can even do a sanity check\n\n"
      ]
    },
    {
      "cell_type": "code",
      "execution_count": null,
      "metadata": {
        "collapsed": false
      },
      "outputs": [],
      "source": [
        "np.allclose(points, point_cloud.points)"
      ]
    },
    {
      "cell_type": "markdown",
      "metadata": {},
      "source": [
        "And now that we have a PyVista mesh, we can plot it. Note that we add an\noption to use eye dome lighting - this is a shading technique to improve\ndepth perception with point clouds (learn more in `ref_edl`).\n\n"
      ]
    },
    {
      "cell_type": "code",
      "execution_count": null,
      "metadata": {
        "collapsed": false
      },
      "outputs": [],
      "source": [
        "point_cloud.plot(eye_dome_lighting=True)"
      ]
    },
    {
      "cell_type": "markdown",
      "metadata": {},
      "source": [
        "Now what if you have data attributes (scalar/vector arrays) that you'd like\nto associate with every node of your mesh? You can easily add NumPy data\narrays that have a length equal to the number of points in the mesh along the\nfirst axis. For example, lets add a few arrays to this new ``point_cloud``\nmesh.\n\nMake an array of scalar values with the same length as the points array.\nEach element in this array will correspond to points at the same index:\n\n"
      ]
    },
    {
      "cell_type": "code",
      "execution_count": null,
      "metadata": {
        "collapsed": false
      },
      "outputs": [],
      "source": [
        "# Make data array using z-component of points array\ndata = points[:,-1]\n\n# Add that data to the mesh with the name \"uniform dist\"\npoint_cloud[\"elevation\"] = data"
      ]
    },
    {
      "cell_type": "markdown",
      "metadata": {},
      "source": [
        "And now we can plot the point cloud with that random data. PyVista is smart\nenough to plot the scalar array you added by default. Note that this time,\nwe specify to render every point as its own sphere.\n\n"
      ]
    },
    {
      "cell_type": "code",
      "execution_count": null,
      "metadata": {
        "collapsed": false
      },
      "outputs": [],
      "source": [
        "point_cloud.plot(render_points_as_spheres=True)"
      ]
    },
    {
      "cell_type": "markdown",
      "metadata": {},
      "source": [
        "That data is kind of boring, right? You can also add data arrays with\nmore than one scalar value - perhaps a vector with three elements? Let's\nmake a little function that will compute vectors for every node in the point\ncloud and add those vectors to the mesh.\n\nThis time, we're going to create a totally new, random point cloud.\n\n"
      ]
    },
    {
      "cell_type": "code",
      "execution_count": null,
      "metadata": {
        "collapsed": false
      },
      "outputs": [],
      "source": [
        "# Create random XYZ points\npoints = np.random.rand(100, 3)\n# Make PolyData\npoint_cloud = pv.PolyData(points)\n\n\ndef compute_vectors(mesh):\n    origin = mesh.center\n    vectors = mesh.points - origin\n    vectors = vectors / np.linalg.norm(vectors, axis=1)[:, None]\n    return vectors\n\nvectors = compute_vectors(point_cloud)\nvectors[0:5, :]"
      ]
    },
    {
      "cell_type": "code",
      "execution_count": null,
      "metadata": {
        "collapsed": false
      },
      "outputs": [],
      "source": [
        "point_cloud['vectors'] = vectors"
      ]
    },
    {
      "cell_type": "markdown",
      "metadata": {},
      "source": [
        "Now we can make arrows using those vectors using the glyph filter\n(see `glyph_example` for more details).\n\n"
      ]
    },
    {
      "cell_type": "code",
      "execution_count": null,
      "metadata": {
        "collapsed": false
      },
      "outputs": [],
      "source": [
        "arrows = point_cloud.glyph(orient='vectors', scale=False, factor=0.15,)\n\n# Display the arrows\nplotter = pv.Plotter()\nplotter.add_mesh(point_cloud, color='maroon', point_size=10.,\n                 render_points_as_spheres=True)\nplotter.add_mesh(arrows, color='lightblue')\n# plotter.add_point_labels([point_cloud.center,], ['Center',],\n#                          point_color='yellow', point_size=20)\nplotter.show_grid()\nplotter.show()"
      ]
    }
  ],
  "metadata": {
    "kernelspec": {
      "display_name": "Python 3",
      "language": "python",
      "name": "python3"
    },
    "language_info": {
      "codemirror_mode": {
        "name": "ipython",
        "version": 3
      },
      "file_extension": ".py",
      "mimetype": "text/x-python",
      "name": "python",
      "nbconvert_exporter": "python",
      "pygments_lexer": "ipython3",
      "version": "3.7.10"
    }
  },
  "nbformat": 4,
  "nbformat_minor": 0
}