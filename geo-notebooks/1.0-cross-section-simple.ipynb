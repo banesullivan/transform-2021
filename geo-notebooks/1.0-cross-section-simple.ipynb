{
  "cells": [
    {
      "cell_type": "code",
      "execution_count": null,
      "metadata": {
        "collapsed": false
      },
      "outputs": [],
      "source": [
        "%matplotlib inline\nfrom pyvista import set_plot_theme\nset_plot_theme('document')"
      ]
    },
    {
      "cell_type": "markdown",
      "metadata": {},
      "source": [
        "\n# Geological Cross Section\n\nPlot a geological cross section in 3D space.\n\nWe have a cross section PNG image and we know three coordinates along that section:\n* This section goes from +200m to -2000m in vertical extent\n* Coordinates of the start point: 32362837 5769796\n* Coordinates of the bend: 32368424 5765456 (the bending point is indicated with a * \"K\" at around half the section)\n* Coordinates of the end point: 32374114 5763507\n\n\nOriginally posted: https://github.com/pyvista/pyvista-support/issues/272\n"
      ]
    },
    {
      "cell_type": "code",
      "execution_count": null,
      "metadata": {
        "collapsed": false
      },
      "outputs": [],
      "source": [
        "import pyvista as pv\nfrom pyvista import examples\nimport numpy as np"
      ]
    },
    {
      "cell_type": "markdown",
      "metadata": {},
      "source": [
        "Parameters for cross section\n\n"
      ]
    },
    {
      "cell_type": "code",
      "execution_count": null,
      "metadata": {
        "collapsed": false
      },
      "outputs": [],
      "source": [
        "zrng = [-2000, 200]\nstart = [32362837, 5769796]\nbend = [\n    32368424,\n    5765456,\n]  # (the bending point is indicated with a \"K\" at around half the section)\nend = [32374114, 5763507]"
      ]
    },
    {
      "cell_type": "markdown",
      "metadata": {},
      "source": [
        "Make a surface mesh representing that coverage/ This mesh consists of 6 points. Generate them:\n  a-----b-----e\n  |     |     |\n  |     |     |\n  d-----c-----f\n\n"
      ]
    },
    {
      "cell_type": "code",
      "execution_count": null,
      "metadata": {
        "collapsed": false
      },
      "outputs": [],
      "source": [
        "a = start + [\n    zrng[1],\n]\nb = bend + [\n    zrng[1],\n]\nc = bend + [\n    zrng[0],\n]\nd = start + [\n    zrng[0],\n]\ne = end + [\n    zrng[1],\n]\nf = end + [\n    zrng[0],\n]"
      ]
    },
    {
      "cell_type": "markdown",
      "metadata": {},
      "source": [
        "Now make a poly data mesh of these points\n\n"
      ]
    },
    {
      "cell_type": "code",
      "execution_count": null,
      "metadata": {
        "collapsed": false
      },
      "outputs": [],
      "source": [
        "points = np.array([a, b, c, d, e, f])\nfaces = np.array([4, 0, 1, 2, 3, 4, 1, 4, 5, 2])\nsurface = pv.PolyData(points, faces)"
      ]
    },
    {
      "cell_type": "markdown",
      "metadata": {},
      "source": [
        "Map the texture to the mesh.\n- We know the tcoords of a, d, e, & f, but not necessarily b & c\n- to find them, scale by cell sizes:\n- Get the width of the two cells to find those coords\n\n"
      ]
    },
    {
      "cell_type": "code",
      "execution_count": null,
      "metadata": {
        "collapsed": false
      },
      "outputs": [],
      "source": [
        "w = surface.compute_cell_sizes()[\"Area\"] / np.ptp(zrng)\ntw = (w / np.sum(w))[0]\n\n# Generate Tcoords now!\nt_coords = np.array(\n    [\n        [0, 1],\n        [tw, 1],\n        [tw, 0],\n        [0, 0],\n        [1, 1],\n        [1, 0],\n    ]\n)\nsurface.t_coords = t_coords"
      ]
    },
    {
      "cell_type": "markdown",
      "metadata": {},
      "source": [
        "Load the texture image\n\n"
      ]
    },
    {
      "cell_type": "code",
      "execution_count": null,
      "metadata": {
        "collapsed": false
      },
      "outputs": [],
      "source": [
        "path, _ = examples.downloads._download_file(\"geo-cross-section.png\")\ntexture = pv.Texture(path)"
      ]
    },
    {
      "cell_type": "markdown",
      "metadata": {},
      "source": [
        "Plot it up!\n\n"
      ]
    },
    {
      "cell_type": "code",
      "execution_count": null,
      "metadata": {
        "collapsed": false
      },
      "outputs": [],
      "source": [
        "cpos = [\n    (32361897.379640546, 5777033.66791174, 341.48314909204873),\n    (32366747.758752592, 5766374.637744438, -1142.521946006218),\n    (0.047926147231751065, -0.11631040130754997, 0.9920559333823861),\n]\nsurface.plot(texture=texture, cpos=cpos, show_edges=True)"
      ]
    }
  ],
  "metadata": {
    "kernelspec": {
      "display_name": "Python 3",
      "language": "python",
      "name": "python3"
    },
    "language_info": {
      "codemirror_mode": {
        "name": "ipython",
        "version": 3
      },
      "file_extension": ".py",
      "mimetype": "text/x-python",
      "name": "python",
      "nbconvert_exporter": "python",
      "pygments_lexer": "ipython3",
      "version": "3.7.10"
    }
  },
  "nbformat": 4,
  "nbformat_minor": 0
}