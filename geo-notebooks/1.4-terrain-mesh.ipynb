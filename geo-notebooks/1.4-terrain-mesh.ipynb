{
  "cells": [
    {
      "cell_type": "code",
      "execution_count": null,
      "metadata": {
        "collapsed": false
      },
      "outputs": [],
      "source": [
        "%matplotlib inline\nfrom pyvista import set_plot_theme\nset_plot_theme('document')"
      ]
    },
    {
      "cell_type": "markdown",
      "metadata": {},
      "source": [
        "\n# Terrain Following Mesh\n\nUse a topographic surface to create a 3D terrain-following mesh.\n\nTerrain following meshes are common in the environmental sciences, for instance\nin hydrological modelling (see\n`Maxwell 2013 <https://www.sciencedirect.com/science/article/abs/pii/S0309170812002564>`_\nand\n`ParFlow <https://parflow.org>`_).\n\nIn this example, we demonstrate a simple way to make a 3D grid/mesh that\nfollows a given topographic surface. In this example, it is important to note\nthat the given digital elevation model (DEM) is structured (gridded and not\ntriangulated): this is common for DEMs.\n"
      ]
    },
    {
      "cell_type": "code",
      "execution_count": null,
      "metadata": {
        "collapsed": false
      },
      "outputs": [],
      "source": [
        "# sphinx_gallery_thumbnail_number = 3\nimport pyvista as pv\nimport numpy as np\nfrom pyvista import examples"
      ]
    },
    {
      "cell_type": "markdown",
      "metadata": {},
      "source": [
        "Download a gridded topography surface (DEM)\n\n"
      ]
    },
    {
      "cell_type": "code",
      "execution_count": null,
      "metadata": {
        "collapsed": false
      },
      "outputs": [],
      "source": [
        "dem = examples.download_crater_topo()\ndem"
      ]
    },
    {
      "cell_type": "markdown",
      "metadata": {},
      "source": [
        "Now let's subsample and extract an area of interest to make this example\nsimple (also the DEM we just load is pretty big).\nSince the DEM we loaded is a :class:`pyvista.UniformGrid` mesh, we can use\nthe :func:`pyvista.UniformGridFilters.extract_subset` filter:\n\n"
      ]
    },
    {
      "cell_type": "code",
      "execution_count": null,
      "metadata": {
        "collapsed": false
      },
      "outputs": [],
      "source": [
        "subset = dem.extract_subset((500, 900, 400, 800, 0, 0), (5, 5, 1))\nsubset.plot(cpos=\"xy\")"
      ]
    },
    {
      "cell_type": "markdown",
      "metadata": {},
      "source": [
        "Now that we have a region of interest for our terrain following mesh, lets\nmake a 3D surface of that DEM:\n\n"
      ]
    },
    {
      "cell_type": "code",
      "execution_count": null,
      "metadata": {
        "collapsed": false
      },
      "outputs": [],
      "source": [
        "terrain = subset.warp_by_scalar()\nterrain"
      ]
    },
    {
      "cell_type": "code",
      "execution_count": null,
      "metadata": {
        "collapsed": false
      },
      "outputs": [],
      "source": [
        "terrain.plot()"
      ]
    },
    {
      "cell_type": "markdown",
      "metadata": {},
      "source": [
        "And now we have a 3D structured surface of the terrain! We can now extend\nthat structured surface into a 3D mesh to form a terrain following grid.\nTo do this, we first our cell spacings in the z-direction (these start\nfrom the terrain surface). Then we repeat the XYZ structured coordinates\nof the terrain mesh and decrease each Z level by our Z cell spacing.\nOnce we have those structured coordinates, we can create a\n:class:`pyvista.StructuredGrid`.\n\n"
      ]
    },
    {
      "cell_type": "code",
      "execution_count": null,
      "metadata": {
        "collapsed": false
      },
      "outputs": [],
      "source": [
        "z_cells = np.array([25] * 5 + [35] * 3 + [50] * 2 + [75, 100])\n\nxx = np.repeat(terrain.x, len(z_cells), axis=-1)\nyy = np.repeat(terrain.y, len(z_cells), axis=-1)\nzz = np.repeat(terrain.z, len(z_cells), axis=-1) - np.cumsum(z_cells).reshape(\n    (1, 1, -1)\n)\n\nmesh = pv.StructuredGrid(xx, yy, zz)\nmesh[\"Elevation\"] = zz.ravel(order=\"F\")\nmesh"
      ]
    },
    {
      "cell_type": "code",
      "execution_count": null,
      "metadata": {
        "collapsed": false
      },
      "outputs": [],
      "source": [
        "cpos = [\n    (1826736.796308761, 5655837.275274233, 4676.8405505181745),\n    (1821066.1790519988, 5649248.765538796, 943.0995128226014),\n    (-0.2797856225380979, -0.27966946337594883, 0.9184252809434081),\n]\n\nmesh.plot(show_edges=True, lighting=False, cpos=cpos)"
      ]
    }
  ],
  "metadata": {
    "kernelspec": {
      "display_name": "Python 3",
      "language": "python",
      "name": "python3"
    },
    "language_info": {
      "codemirror_mode": {
        "name": "ipython",
        "version": 3
      },
      "file_extension": ".py",
      "mimetype": "text/x-python",
      "name": "python",
      "nbconvert_exporter": "python",
      "pygments_lexer": "ipython3",
      "version": "3.7.10"
    }
  },
  "nbformat": 4,
  "nbformat_minor": 0
}