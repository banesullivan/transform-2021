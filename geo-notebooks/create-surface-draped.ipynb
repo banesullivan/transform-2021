{
  "cells": [
    {
      "cell_type": "code",
      "execution_count": null,
      "metadata": {
        "collapsed": false
      },
      "outputs": [],
      "source": [
        "%matplotlib inline\nfrom pyvista import set_plot_theme\nset_plot_theme('document')"
      ]
    },
    {
      "cell_type": "markdown",
      "metadata": {},
      "source": [
        "\n# Drape 2D Surface From Line\n\nDrape a surface (2D array) from a line in 3D space.\n\nThis is a common task to create a 2.5D image/sectional mesh of data like GPR\nor airborne EM profiles (geophysics applications). This example provides a look\ninto how to create a 2.5D sectional mesh from typical data in those use cases.\n\nFor this example, we have an instrument path on the ground surface (the line)\nand a 2D array of the collected image under that line.\n\nOriginally posted in `this support issue <https://github.com/pyvista/pyvista-support/issues/135>`_.\n\nSuppose you have some GPR data (or anything that produces a line of data with\nvalues at depth). With these data, you'll have a 2D image/array of your data\nvalues and 3D coordinates of where that line/profile is in 3D space (often\nwhere you collected the data on the surface of topography). Attached below are\nsome example data for this: 1) XYZ coordinates of a GPR path and 2) a 2D array\nof data values produced from the GPR.\n\nThe data here are wacky (it's difficult to get shareable data of decent\nquality), so ignore them but pay attention to the structure. The coordinates we\nhave are technically shifted up and we have some NaN filler above the surface\n- its weird and just ignore it. You'll typically have a more uniform looking\nprofile in 2D with the coordinates associated to the top of each column in your\n2D array.\n"
      ]
    },
    {
      "cell_type": "code",
      "execution_count": null,
      "metadata": {
        "collapsed": false
      },
      "outputs": [],
      "source": [
        "# sphinx_gallery_thumbnail_number = 3\nimport pyvista as pv\nfrom pyvista import examples\nimport numpy as np\nimport matplotlib.pyplot as plt\n\n# Extract the data archive and load these files\n# 2D array of XYZ coordinates\npath = examples.download_gpr_path().points\n# 2D array of the data values from the imaging equipment\ndata = examples.download_gpr_data_array()"
      ]
    },
    {
      "cell_type": "code",
      "execution_count": null,
      "metadata": {
        "collapsed": false
      },
      "outputs": [],
      "source": [
        "plt.figure(figsize=(15, 3))\nplt.pcolormesh(data, cmap=\"seismic\", clim=[-1, 1])\nplt.gca().invert_yaxis()"
      ]
    },
    {
      "cell_type": "markdown",
      "metadata": {},
      "source": [
        "View the the path of the GPR profile from a top-down perspective.\nSince we have the full coordinates (XY and Z), we can create a structured\nmesh \"draping\" down from those coordinates to hold the GPR image data.\n\n"
      ]
    },
    {
      "cell_type": "code",
      "execution_count": null,
      "metadata": {
        "collapsed": false
      },
      "outputs": [],
      "source": [
        "plt.scatter(path[:, 1], path[:, 0])\nplt.axis(\"image\")\nplt.xlabel(\"Northing\")\nplt.ylabel(\"Easting\")"
      ]
    },
    {
      "cell_type": "code",
      "execution_count": null,
      "metadata": {
        "collapsed": false
      },
      "outputs": [],
      "source": [
        "assert len(path) in data.shape, \"Make sure coordinates are present for every trace.\"\n# If not, you'll need to interpolate the path!\n\n# Grab the number of samples (in Z dir) and number of traces/soundings\nnsamples, ntraces = data.shape  # Might be opposite for your data, pay attention here\n\n# Define the Z spacing of your 2D section\nz_spacing = 0.12\n\n# Create structured points draping down from the path\npoints = np.repeat(path, nsamples, axis=0)\n# repeat the Z locations across\ntp = np.arange(0, z_spacing * nsamples, z_spacing)\ntp = path[:, 2][:, None] - tp\npoints[:, -1] = tp.ravel()"
      ]
    },
    {
      "cell_type": "markdown",
      "metadata": {},
      "source": [
        "Make a StructuredGrid from the structured points\n\n"
      ]
    },
    {
      "cell_type": "code",
      "execution_count": null,
      "metadata": {
        "collapsed": false
      },
      "outputs": [],
      "source": [
        "grid = pv.StructuredGrid()\ngrid.points = points\ngrid.dimensions = nsamples, ntraces, 1\n\n# Add the data array - note the ordering!\ngrid[\"values\"] = data.ravel(order=\"F\")"
      ]
    },
    {
      "cell_type": "markdown",
      "metadata": {},
      "source": [
        "And now we can plot it! or process or do anything, because it is a PyVista\nmesh and the possibilities are endless with PyVista\n\n"
      ]
    },
    {
      "cell_type": "code",
      "execution_count": null,
      "metadata": {
        "collapsed": false
      },
      "outputs": [],
      "source": [
        "cpos = [\n    (1217002.366883762, 345363.80666238244, 3816.828857791056),\n    (1216322.4753436751, 344033.0310674846, 3331.052985309526),\n    (-0.17716571330686096, -0.25634368781817973, 0.9502106207279767),\n]\n\np = pv.Plotter()\np.add_mesh(grid, cmap=\"seismic\", clim=[-1, 1])\np.add_mesh(pv.PolyData(path), color=\"orange\")\np.show(cpos=cpos)"
      ]
    }
  ],
  "metadata": {
    "kernelspec": {
      "display_name": "Python 3",
      "language": "python",
      "name": "python3"
    },
    "language_info": {
      "codemirror_mode": {
        "name": "ipython",
        "version": 3
      },
      "file_extension": ".py",
      "mimetype": "text/x-python",
      "name": "python",
      "nbconvert_exporter": "python",
      "pygments_lexer": "ipython3",
      "version": "3.7.10"
    }
  },
  "nbformat": 4,
  "nbformat_minor": 0
}