{
  "cells": [
    {
      "cell_type": "code",
      "execution_count": null,
      "metadata": {
        "collapsed": false
      },
      "outputs": [],
      "source": [
        "%matplotlib inline\nfrom pyvista import set_plot_theme\nset_plot_theme('document')"
      ]
    },
    {
      "cell_type": "markdown",
      "metadata": {},
      "source": [
        "\n# Damavand Volcano\n\nVisualize 3D models of Damavand Volcano, Alborz, Iran.\n\nThis is an adaption of `Alexey Pechnikov <https://orcid.org/0000-0001-9626-8615>`_ and `A.V.Durandin <https://orcid.org/0000-0001-6468-9757>`_'s `ParaView-MoshaFault <https://github.com/mobigroup/ParaView-MoshaFault>`_.\n\nSee LinkedIn posts for more details:\n\n- `The slices of the 3D model of the density on the Mosha fault area, North Iran <https://www.linkedin.com/posts/activity-6610080454911631360-97-V/>`_\n\n- `Comparing Magnetic and Gravity Data to the Mosha Fault Area <https://www.linkedin.com/posts/activity-6609736436344201216-Kxls/>`_\n\n- `North Iran, Mosha fault <https://www.linkedin.com/posts/activity-6609681862937853952-2BPG/>`_\n\n- `North Iran <https://www.linkedin.com/posts/activity-6609486793676996608-ZF-J/>`_\n\n\nOriginally posted: https://github.com/banesullivan/damavand-volcano\n"
      ]
    },
    {
      "cell_type": "code",
      "execution_count": null,
      "metadata": {
        "collapsed": false
      },
      "outputs": [],
      "source": [
        "# sphinx_gallery_thumbnail_number = 6\nimport pyvista as pv\nfrom pyvista import examples\nimport numpy as np"
      ]
    },
    {
      "cell_type": "code",
      "execution_count": null,
      "metadata": {
        "collapsed": false
      },
      "outputs": [],
      "source": [
        "a, _ = examples.downloads._download_file(\"gebco7510_49cl.stl\")\nb, _ = examples.downloads._download_file(\"gebco7510_55cl.stl\")\nc, _ = examples.downloads._download_file(\"AOI.Damavand.32639.vtp\")\n\ngebco = examples.download_damavand_volcano()\ngebco_a = pv.read(a)\ngebco_b = pv.read(b)\naoi = pv.read(c)"
      ]
    },
    {
      "cell_type": "code",
      "execution_count": null,
      "metadata": {
        "collapsed": false
      },
      "outputs": [],
      "source": [
        "opacity = [0, 0.75, 0, 0.75, 1.0]\nclim = [0, 100]\n\np = pv.Plotter()\np.add_volume(\n    gebco,\n    cmap=\"magma\",\n    clim=clim,\n    opacity=opacity,\n    opacity_unit_distance=6000,\n)\np.show()"
      ]
    },
    {
      "cell_type": "code",
      "execution_count": null,
      "metadata": {
        "collapsed": false
      },
      "outputs": [],
      "source": [
        "voi = gebco.extract_subset([175, 200, 105, 132, 98, 170])\n\np = pv.Plotter()\np.add_mesh(gebco.outline(), color=\"k\")\np.add_mesh(voi, cmap=\"magma\")\np.show()"
      ]
    },
    {
      "cell_type": "code",
      "execution_count": null,
      "metadata": {
        "collapsed": false
      },
      "outputs": [],
      "source": [
        "p = pv.Plotter()\np.add_volume(voi, cmap=\"magma\", clim=clim, opacity=opacity, opacity_unit_distance=2000)\np.camera_position = [\n    (531554.5542909054, 3944331.800171338, 26563.04809259223),\n    (599088.1433822059, 3982089.287834022, -11965.14728669936),\n    (0.3738545892415734, 0.244312810377319, 0.8947312427698892),\n]\np.show()"
      ]
    },
    {
      "cell_type": "code",
      "execution_count": null,
      "metadata": {
        "collapsed": false
      },
      "outputs": [],
      "source": [
        "contours = voi.contour(np.arange(5, 55, 5))\ncontours"
      ]
    },
    {
      "cell_type": "code",
      "execution_count": null,
      "metadata": {
        "collapsed": false
      },
      "outputs": [],
      "source": [
        "contours.plot(cmap=\"nipy_spectral\", opacity=0.15)"
      ]
    },
    {
      "cell_type": "code",
      "execution_count": null,
      "metadata": {
        "collapsed": false
      },
      "outputs": [],
      "source": [
        "roi = [*voi.bounds[0:4], *aoi.bounds[4:6]]\naoi_clipped = aoi.clip_box(roi, invert=False)\npv.plot([aoi, pv.Box(roi).outline()], cpos=\"xy\")"
      ]
    },
    {
      "cell_type": "code",
      "execution_count": null,
      "metadata": {
        "collapsed": false
      },
      "outputs": [],
      "source": [
        "p = pv.Plotter(window_size=np.array([1024, 768]) * 2)\n\n# Add all the data we want to see\np.add_mesh(contours, cmap=\"nipy_spectral\", opacity=0.15)\np.add_mesh(gebco_a, color=\"#ff0000\")\np.add_mesh(gebco_b, color=\"#ff0000\")\np.add_mesh(aoi_clipped, cmap=\"coolwarm\", opacity=0.7)\n\n# Add a title\np.add_text(\"Vent and Magma Chambers\\nDamavand Volcano, Alborz\")\n\n# A nice perspective\np.camera_position = [\n    (544065.5831913119, 3924518.576093113, 24324.3096344195),\n    (597885.1732914157, 3982998.0900773173, -12587.537450058662),\n    (0.33162714740718435, 0.26609487244915314, 0.9051060456978746),\n]\np.show()"
      ]
    }
  ],
  "metadata": {
    "kernelspec": {
      "display_name": "Python 3",
      "language": "python",
      "name": "python3"
    },
    "language_info": {
      "codemirror_mode": {
        "name": "ipython",
        "version": 3
      },
      "file_extension": ".py",
      "mimetype": "text/x-python",
      "name": "python",
      "nbconvert_exporter": "python",
      "pygments_lexer": "ipython3",
      "version": "3.7.10"
    }
  },
  "nbformat": 4,
  "nbformat_minor": 0
}