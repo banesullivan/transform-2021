{
  "cells": [
    {
      "cell_type": "code",
      "execution_count": null,
      "metadata": {
        "collapsed": false
      },
      "outputs": [],
      "source": [
        "%matplotlib inline\nfrom pyvista import set_plot_theme\nset_plot_theme('document')"
      ]
    },
    {
      "cell_type": "markdown",
      "metadata": {},
      "source": [
        "\n# Vertical Exaggeration\n\nOriginally posted: https://github.com/pyvista/pyvista-support/issues/8\n"
      ]
    },
    {
      "cell_type": "code",
      "execution_count": null,
      "metadata": {
        "collapsed": false
      },
      "outputs": [],
      "source": [
        "# sphinx_gallery_thumbnail_number = 2\nimport pyvista as pv\nfrom pyvista import examples\nimport PVGeo"
      ]
    },
    {
      "cell_type": "markdown",
      "metadata": {},
      "source": [
        "Load data files using PVGeo\n\n"
      ]
    },
    {
      "cell_type": "code",
      "execution_count": null,
      "metadata": {
        "collapsed": false
      },
      "outputs": [],
      "source": [
        "gpath, _ = examples.downloads._download_file(\"gravi.txt\")\nppath, _ = examples.downloads._download_file(\"surf.txt\")\n\ngravi = PVGeo.ubc.GravObsReader().apply(gpath)\npsurf = PVGeo.ubc.TopoReader().apply(ppath)\n\n# Filter points of topo to a surface\nsurf = psurf.delaunay_2d()"
      ]
    },
    {
      "cell_type": "code",
      "execution_count": null,
      "metadata": {
        "collapsed": false
      },
      "outputs": [],
      "source": [
        "gargs = dict(\n    point_size=5.0,\n    render_points_as_spheres=True,\n    cmap=\"bwr\",\n    clim=[-50, 110],\n    stitle=\"Residuals\",\n)\nsargs = dict(cmap=\"gist_earth\")\n\n\np = pv.Plotter()\np.add_mesh(gravi, **gargs)\np.add_mesh(surf)\np.camera_position = [\n    (259020.43748942937, 5129530.509280042, 13023.703775334989),\n    (270665.9132071607, 5119041.602718343, -837.0133710551552),\n    (0.39114802616415034, -0.5453684907934401, 0.7413342234630576),\n]\np.show()"
      ]
    },
    {
      "cell_type": "code",
      "execution_count": null,
      "metadata": {
        "collapsed": false
      },
      "outputs": [],
      "source": [
        "p = pv.Plotter()\np.add_mesh(gravi, **gargs)\np.add_mesh(surf, **sargs)\np.set_scale(zscale=5)\np.show()"
      ]
    }
  ],
  "metadata": {
    "kernelspec": {
      "display_name": "Python 3",
      "language": "python",
      "name": "python3"
    },
    "language_info": {
      "codemirror_mode": {
        "name": "ipython",
        "version": 3
      },
      "file_extension": ".py",
      "mimetype": "text/x-python",
      "name": "python",
      "nbconvert_exporter": "python",
      "pygments_lexer": "ipython3",
      "version": "3.7.10"
    }
  },
  "nbformat": 4,
  "nbformat_minor": 0
}