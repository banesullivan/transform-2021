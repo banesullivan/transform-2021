{
  "cells": [
    {
      "cell_type": "code",
      "execution_count": null,
      "metadata": {
        "collapsed": false
      },
      "outputs": [],
      "source": [
        "%matplotlib inline\nfrom pyvista import set_plot_theme\nset_plot_theme('document')"
      ]
    },
    {
      "cell_type": "markdown",
      "metadata": {},
      "source": [
        "\n# Voxelize Points\n\nCreate voxels/blocks for eavery point in a gridded point cloud\n\nOriginally posted: https://github.com/pyvista/pyvista-support/issues/178\n\nSeee also https://pvgeo.org/examples/filters-general/voxelize-points.html#voxelize-points\n"
      ]
    },
    {
      "cell_type": "code",
      "execution_count": null,
      "metadata": {
        "collapsed": false
      },
      "outputs": [],
      "source": [
        "import pyvista as pv\nfrom pyvista import examples\nimport numpy as np\nimport PVGeo\n\npath, _ = examples.downloads._download_file(\"points3d.txt\")\n\npoints = np.loadtxt(path)\npc = pv.PolyData(points)"
      ]
    },
    {
      "cell_type": "code",
      "execution_count": null,
      "metadata": {
        "collapsed": false
      },
      "outputs": [],
      "source": [
        "grid = PVGeo.filters.VoxelizePoints().apply(pc)"
      ]
    },
    {
      "cell_type": "code",
      "execution_count": null,
      "metadata": {
        "collapsed": false
      },
      "outputs": [],
      "source": [
        "p = pv.Plotter()\np.add_mesh(grid, opacity=0.5, show_edges=True)\np.add_mesh(pc, point_size=5, color=\"red\")\np.show_grid()\np.camera_position = [\n    (79.33386539265953, 67.31649454630514, 34.0649093635989),\n    (35.68180551703578, 60.72062545602169, 29.136616698279703),\n    (-0.11000016621558596, -0.014573551603326722, 0.9938247204744952),\n]\np.show()"
      ]
    }
  ],
  "metadata": {
    "kernelspec": {
      "display_name": "Python 3",
      "language": "python",
      "name": "python3"
    },
    "language_info": {
      "codemirror_mode": {
        "name": "ipython",
        "version": 3
      },
      "file_extension": ".py",
      "mimetype": "text/x-python",
      "name": "python",
      "nbconvert_exporter": "python",
      "pygments_lexer": "ipython3",
      "version": "3.7.10"
    }
  },
  "nbformat": 4,
  "nbformat_minor": 0
}