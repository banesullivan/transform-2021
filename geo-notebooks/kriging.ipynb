{
  "cells": [
    {
      "cell_type": "code",
      "execution_count": null,
      "metadata": {
        "collapsed": false
      },
      "outputs": [],
      "source": [
        "%matplotlib inline\nfrom pyvista import set_plot_theme\nset_plot_theme('document')"
      ]
    },
    {
      "cell_type": "markdown",
      "metadata": {},
      "source": [
        "\n# Kriging with GSTools\n\nThis example utilizes data available from the `FORGE geothermal reserach site <https://utahforge.com>`_'s `2019 Geothermal Design Challenge <https://utahforge.com/studentcomp/>`_. In this example, the data is archived in the `Open Mining Format v1 (OMF) <https://github.com/gmggroup/omf>`_ specification and the `omfvista <https://opengeovis.github.io/omfvista/>`_ software is leverage to load those data into a PyVista ``MultiBlock`` data structure.\n\nThe goal of this workflow is to create a 3D temperature model by kriging the *Observed Temperature* data (sparse observational data).\nThe open-source, Python software `GSTools <https://geostat-framework.github.io/>`_ is used to perform variogram analysis and kriging of the temperature data onto a PyVista mesh to create the 3D model.\n"
      ]
    },
    {
      "cell_type": "code",
      "execution_count": null,
      "metadata": {
        "collapsed": false
      },
      "outputs": [],
      "source": [
        "# sphinx_gallery_thumbnail_number = 4\nimport pyvista as pv\nfrom pyvista import examples\nimport numpy as np\nimport omfvista\nimport PVGeo\nimport matplotlib.pyplot as plt\nfrom gstools import Exponential, krige, vario_estimate_unstructured\nfrom gstools.covmodel.plot import plot_variogram"
      ]
    },
    {
      "cell_type": "markdown",
      "metadata": {},
      "source": [
        "## Load the Data\n\nFor this project, we have two data archives in the `Open Mining Format (OMF) <https://github.com/gmggroup/omf>`_ specification and we will use one of PyVista's companion projects, `omfvista <https://opengeovis.github.io/omfvista/>`_ to load those data archives into PyVista a ``MultiBlock`` dataset.\n\n"
      ]
    },
    {
      "cell_type": "code",
      "execution_count": null,
      "metadata": {
        "collapsed": false
      },
      "outputs": [],
      "source": [
        "url = \"https://dl.dropbox.com/s/3cuxvurj8zubchb/FORGE.omf?dl=0\"\npath, _ = examples.downloads._retrieve_file(url, \"FORGE.omf\")\n\nproject = omfvista.load_project(path)\nproject"
      ]
    },
    {
      "cell_type": "markdown",
      "metadata": {},
      "source": [
        "## Initial Inspection\n\nNow we can go ahead and create an integrated visualization of all of the data available to us.\n\n"
      ]
    },
    {
      "cell_type": "code",
      "execution_count": null,
      "metadata": {
        "collapsed": false
      },
      "outputs": [],
      "source": [
        "p = pv.Plotter(window_size=np.array([1024, 768]) * 2)\np.add_mesh(\n    project[\"Site Boundary\"], color=\"yellow\", render_lines_as_tubes=True, line_width=10\n)\np.add_mesh(project[\"Terrain\"], texture=\"geo_aer\", opacity=0.7, lighting=False)\np.add_mesh(project[\"Opal Mound Fault\"], color=\"brown\", opacity=0.7)\np.add_mesh(project[\"Negro Mag Fault\"], color=\"lightblue\", opacity=0.7)\np.add_mesh(\n    project[\"Observed Temperature\"],\n    cmap=\"coolwarm\",\n    clim=[10, 270],\n    point_size=15,\n    render_points_as_spheres=True,\n)\n\np.enable_depth_peeling()\np.camera_position = [\n    (315661.9406719345, 4234675.528454831, 15167.291249498076),\n    (337498.00521202036, 4260818.504034578, -1261.5688408692681),\n    (0.2708862567924439, 0.3397398234107863, 0.9006650255615491),\n]\np.show()"
      ]
    },
    {
      "cell_type": "markdown",
      "metadata": {},
      "source": [
        "## Kriging\n\nNow we will use an external library, [`gstools`](https://geostat-framework.github.io), to krige the temperature probe data into a 3D temperature model of the subsurface.\n\n"
      ]
    },
    {
      "cell_type": "markdown",
      "metadata": {},
      "source": [
        "### Choosing a Model Space\n\nWe start out by creating the 3D model space as a PyVista `UniformGrid` that encompasses the project region. The following were chosen manually:\n\n"
      ]
    },
    {
      "cell_type": "code",
      "execution_count": null,
      "metadata": {
        "collapsed": false
      },
      "outputs": [],
      "source": [
        "# Create the kriging grid\ngrid = pv.UniformGrid()\n# Bottom south-west corner\ngrid.origin = (329700, 4252600, -2700)\n# Cell sizes\ngrid.spacing = (250, 250, 50)\n# Number of cells in eaxh direction\ngrid.dimensions = (60, 75, 100)"
      ]
    },
    {
      "cell_type": "markdown",
      "metadata": {},
      "source": [
        "Visually inspect the kriging grid in relation to data\n\n"
      ]
    },
    {
      "cell_type": "code",
      "execution_count": null,
      "metadata": {
        "collapsed": false
      },
      "outputs": [],
      "source": [
        "p = pv.Plotter(window_size=np.array([1024, 768]) * 2)\np.add_mesh(grid, opacity=0.5, color=True)\np.add_mesh(project[\"Terrain\"], texture=\"geo_aer\", opacity=0.75)\np.add_mesh(\n    project[\"Observed Temperature\"],\n    cmap=\"coolwarm\",\n    stitle=\"Temperature (C)\",\n    point_size=15,\n    render_points_as_spheres=True,\n)\np.enable_depth_peeling()\np.camera_position = [\n    (303509.4197523619, 4279629.689766085, 8053.049483835099),\n    (336316.405356571, 4261479.748583805, -1756.358124546427),\n    (0.22299463811939535, -0.11978828465250713, 0.9674317331109259),\n]\np.show()"
      ]
    },
    {
      "cell_type": "markdown",
      "metadata": {},
      "source": [
        "### Variogram Analysis\n\nNext, we need to compute a variogram for the temperature probe data and fit that variogram to an exponential model\n\n"
      ]
    },
    {
      "cell_type": "code",
      "execution_count": null,
      "metadata": {
        "collapsed": false
      },
      "outputs": [],
      "source": [
        "bins = np.linspace(0, 12300, 1000)\nbin_center, gamma = vario_estimate_unstructured(\n    project[\"Observed Temperature\"].points.T,\n    project[\"Observed Temperature\"][\"temperature (C)\"],\n    bins,\n)\n\n\nfit_model = Exponential(dim=3)\nfit_model.fit_variogram(bin_center, gamma, nugget=False)\n\nplt.figure(figsize=(10, 5))\nplt.plot(bin_center, gamma)\nplot_variogram(fit_model, x_max=bins[-1], ax=plt.gca())\nplt.xlabel(\"Lag Distance\")\nplt.ylabel(\"Variogram\")\nplt.show()"
      ]
    },
    {
      "cell_type": "markdown",
      "metadata": {},
      "source": [
        "### Perfroming the Kriging\nThen we pass the fitted exponential model when instantiating the kriging operator from GSTools.\n\n"
      ]
    },
    {
      "cell_type": "code",
      "execution_count": null,
      "metadata": {
        "collapsed": false
      },
      "outputs": [],
      "source": [
        "# Create the kriging model\nkrig = krige.Ordinary(\n    fit_model,\n    project[\"Observed Temperature\"].points.T,\n    project[\"Observed Temperature\"][\"temperature (C)\"],\n)"
      ]
    },
    {
      "cell_type": "markdown",
      "metadata": {},
      "source": [
        "After instantiating the kriging operator, we can have it operate on the nodes of our 3D grid that we created earlier and collect the results back onto the grid.\n\n"
      ]
    },
    {
      "cell_type": "code",
      "execution_count": null,
      "metadata": {
        "collapsed": false
      },
      "outputs": [],
      "source": [
        "krig.mesh(\n    grid,\n    name=\"temperature (C)\",\n)"
      ]
    },
    {
      "cell_type": "markdown",
      "metadata": {},
      "source": [
        "And now the `grid` model has the temperature scalar field and kriging variance as data arrays.\n\n"
      ]
    },
    {
      "cell_type": "code",
      "execution_count": null,
      "metadata": {
        "collapsed": false
      },
      "outputs": [],
      "source": [
        "project[\"Kriged Temperature Model\"] = grid"
      ]
    },
    {
      "cell_type": "markdown",
      "metadata": {},
      "source": [
        "## Post-Processing\n\nWe can use a filter from PVGeo to extract the region of the temperature model that is beneath the topography surface as the kriging did not account for the surface boundary.\n\n"
      ]
    },
    {
      "cell_type": "code",
      "execution_count": null,
      "metadata": {
        "collapsed": false
      },
      "outputs": [],
      "source": [
        "# Instantiate the algorithm\nextractor = PVGeo.grids.ExtractTopography(tolerance=10, remove=True)\n# Apply the algorithm to the PyVista grid using the topography surface\nsubsurface = extractor.apply(grid, project[\"Terrain\"])"
      ]
    },
    {
      "cell_type": "markdown",
      "metadata": {},
      "source": [
        "## Resulting Visualization\n\n"
      ]
    },
    {
      "cell_type": "code",
      "execution_count": null,
      "metadata": {
        "collapsed": false
      },
      "outputs": [],
      "source": [
        "# Create the main figure\ndef add_contents(p):\n    \"\"\"A helper to add data to scenes.\"\"\"\n    p.add_mesh(\n        project[\"Site Boundary\"].tube(50),\n        color=\"yellow\",\n    )\n    p.add_mesh(project[\"Terrain\"], texture=\"geo_aer\", opacity=0.7, lighting=False)\n\n    p.add_mesh(project[\"Opal Mound Fault\"], color=\"brown\", opacity=0.75)\n    p.add_mesh(project[\"Negro Mag Fault\"], color=\"lightblue\", opacity=0.75)\n\n    p.add_mesh(\n        subsurface.ctp().contour([175, 225]),\n        name=\"the model\",\n        scalars=\"temperature (C)\",\n        cmap=\"coolwarm\",\n        clim=[10, 270],\n        opacity=0.9,\n        stitle=\"Temperature (C)\",\n    )\n    p.add_mesh(\n        project[\"Observed Temperature\"],\n        cmap=\"coolwarm\",\n        clim=[10, 270],\n        render_points_as_spheres=True,\n        point_size=10,\n        stitle=\"Temperature (C)\",\n    )\n\n    p.enable_depth_peeling(20)\n    return\n\n\np = pv.Plotter()\n\nadd_contents(p)\n\np.camera_position = [\n    (319663.46494887985, 4294870.4704494225, -8787.973684799075),\n    (336926.4650625, 4261892.29012, 103.0),\n    (-0.09983848586767283, 0.20995262898057362, 0.9726007250273854),\n]\n\np.show()"
      ]
    }
  ],
  "metadata": {
    "kernelspec": {
      "display_name": "Python 3",
      "language": "python",
      "name": "python3"
    },
    "language_info": {
      "codemirror_mode": {
        "name": "ipython",
        "version": 3
      },
      "file_extension": ".py",
      "mimetype": "text/x-python",
      "name": "python",
      "nbconvert_exporter": "python",
      "pygments_lexer": "ipython3",
      "version": "3.7.10"
    }
  },
  "nbformat": 4,
  "nbformat_minor": 0
}