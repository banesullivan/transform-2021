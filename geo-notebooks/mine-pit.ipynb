{
  "cells": [
    {
      "cell_type": "code",
      "execution_count": null,
      "metadata": {
        "collapsed": false
      },
      "outputs": [],
      "source": [
        "%matplotlib inline\nfrom pyvista import set_plot_theme\nset_plot_theme('document')"
      ]
    },
    {
      "cell_type": "markdown",
      "metadata": {},
      "source": [
        "\n# Mine Pit Imagery\n\nTriangulate a surface from a point cloud of points and overlay imagery of a\nmine pit.\n\nOriginally posted: https://github.com/pyvista/pyvista-support/issues/159\n"
      ]
    },
    {
      "cell_type": "code",
      "execution_count": null,
      "metadata": {
        "collapsed": false
      },
      "outputs": [],
      "source": [
        "# sphinx_gallery_thumbnail_number = 2\nimport pyvista as pv\nfrom pyvista import examples\nimport numpy as np\nimport xarray as xr"
      ]
    },
    {
      "cell_type": "code",
      "execution_count": null,
      "metadata": {
        "collapsed": false
      },
      "outputs": [],
      "source": [
        "path, _ = examples.downloads._download_file(\"Sio020320.csv\")\n\npoints = np.loadtxt(path, skiprows=1, delimiter=\",\")[:, 1:]\ncloud = pv.PolyData(points)\n# Plot the point cloud with a special rendering technique\ncloud.plot(eye_dome_lighting=True)"
      ]
    },
    {
      "cell_type": "markdown",
      "metadata": {},
      "source": [
        "Triangulate the points\n\n"
      ]
    },
    {
      "cell_type": "code",
      "execution_count": null,
      "metadata": {
        "collapsed": false
      },
      "outputs": [],
      "source": [
        "# This will take a minute\nsurf = cloud.delaunay_2d(progress_bar=True)"
      ]
    },
    {
      "cell_type": "markdown",
      "metadata": {},
      "source": [
        "Open the GeoTIFF\n\n"
      ]
    },
    {
      "cell_type": "code",
      "execution_count": null,
      "metadata": {
        "collapsed": false
      },
      "outputs": [],
      "source": [
        "url = \"https://dl.dropbox.com/s/pqgme8qsl95u9un/Sio020320_transparent_mosaic_group1.tif?dl=0\"\npath, _ = examples.downloads._retrieve_file(\n    url, \"Sio020320_transparent_mosaic_group1.tif.csv\"\n)\nds = xr.open_rasterio(path)\n\n# Fetch the texture as an image\nimage = np.moveaxis(ds.values, 0, -1)\n\n# Create the ground control points for texture mapping\no = ds.x.min(), ds.y.min(), 0.0  # Bottom Left\nu = ds.x.max(), ds.y.min(), 0.0  # Bottom Right\nv = ds.x.min(), ds.y.max(), 0.0  # Lop left\n# Note: Z-coordinate doesn't matter"
      ]
    },
    {
      "cell_type": "markdown",
      "metadata": {},
      "source": [
        "Use the GCPs to map the tex coords\n\n"
      ]
    },
    {
      "cell_type": "code",
      "execution_count": null,
      "metadata": {
        "collapsed": false
      },
      "outputs": [],
      "source": [
        "mapped_surf = surf.texture_map_to_plane(o, u, v)\n\n# Associate the texture with the mapped mesh\nmapped_surf.textures[\"aerial\"] = pv.numpy_to_texture(image)"
      ]
    },
    {
      "cell_type": "markdown",
      "metadata": {},
      "source": [
        "Plot it up in 3D and enjoy!\n\n"
      ]
    },
    {
      "cell_type": "code",
      "execution_count": null,
      "metadata": {
        "collapsed": false
      },
      "outputs": [],
      "source": [
        "cpos = [\n    (469735.37431312964, 1321523.2987377762, 5242.9129552423465),\n    (469928.4268006842, 1321916.1316302174, 5171.6505267522025),\n    (0.08372003361058433, 0.13788753708579846, 0.986903228836878),\n]\nmapped_surf.plot(texture=\"aerial\", cpos=cpos)"
      ]
    }
  ],
  "metadata": {
    "kernelspec": {
      "display_name": "Python 3",
      "language": "python",
      "name": "python3"
    },
    "language_info": {
      "codemirror_mode": {
        "name": "ipython",
        "version": 3
      },
      "file_extension": ".py",
      "mimetype": "text/x-python",
      "name": "python",
      "nbconvert_exporter": "python",
      "pygments_lexer": "ipython3",
      "version": "3.7.10"
    }
  },
  "nbformat": 4,
  "nbformat_minor": 0
}