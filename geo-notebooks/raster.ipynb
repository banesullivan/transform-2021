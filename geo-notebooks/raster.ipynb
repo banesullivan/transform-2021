{
  "cells": [
    {
      "cell_type": "code",
      "execution_count": null,
      "metadata": {
        "collapsed": false
      },
      "outputs": [],
      "source": [
        "%matplotlib inline\nfrom pyvista import set_plot_theme\nset_plot_theme('document')"
      ]
    },
    {
      "cell_type": "markdown",
      "metadata": {},
      "source": [
        "\n# Read a raster using xarray\n\nUse xarray and rasterio to load a raster into a StructuredGrid.\n"
      ]
    },
    {
      "cell_type": "code",
      "execution_count": null,
      "metadata": {
        "collapsed": false
      },
      "outputs": [],
      "source": [
        "import pyvista as pv\nimport xarray as xr\nimport numpy as np\n\n\ndef read_raster(filename):\n    \"\"\"\n    Helpful: http://xarray.pydata.org/en/stable/auto_gallery/plot_rasterio.html\n    \"\"\"\n    # Read in the data\n    data = xr.open_rasterio(filename)\n    values = np.asarray(data)\n    nans = values == data.nodatavals\n    if np.any(nans):\n        # values = np.ma.masked_where(nans, values)\n        values[nans] = np.nan\n    # Make a mesh\n    xx, yy = np.meshgrid(data[\"x\"], data[\"y\"])\n    zz = values.reshape(xx.shape)  # will make z-comp the values in the file\n    # zz = np.zeros_like(xx) # or this will make it flat\n    mesh = pv.StructuredGrid(xx, yy, zz)\n    mesh[\"data\"] = values.ravel(order=\"F\")\n    return mesh\n\n\n# TODO: find raster we can use\n# topo = read_raster('topography.tif')"
      ]
    }
  ],
  "metadata": {
    "kernelspec": {
      "display_name": "Python 3",
      "language": "python",
      "name": "python3"
    },
    "language_info": {
      "codemirror_mode": {
        "name": "ipython",
        "version": 3
      },
      "file_extension": ".py",
      "mimetype": "text/x-python",
      "name": "python",
      "nbconvert_exporter": "python",
      "pygments_lexer": "ipython3",
      "version": "3.7.10"
    }
  },
  "nbformat": 4,
  "nbformat_minor": 0
}