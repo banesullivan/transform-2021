{
  "cells": [
    {
      "cell_type": "code",
      "execution_count": null,
      "metadata": {
        "collapsed": false
      },
      "outputs": [],
      "source": [
        "%matplotlib inline\nfrom pyvista import set_plot_theme\nset_plot_theme('document')"
      ]
    },
    {
      "cell_type": "markdown",
      "metadata": {},
      "source": [
        "\n# Load OMF Project\n\nLoad and visualize an OMF project file\n\nOriginally from: https://opengeovis.github.io/omfvista/examples/load-project.html\n"
      ]
    },
    {
      "cell_type": "code",
      "execution_count": null,
      "metadata": {
        "collapsed": false
      },
      "outputs": [],
      "source": [
        "# sphinx_gallery_thumbnail_number = 3\nimport pyvista as pv\nfrom pyvista import examples\nimport omfvista"
      ]
    },
    {
      "cell_type": "markdown",
      "metadata": {},
      "source": [
        "Load the project into an :class:`pyvista.MultiBlock` dataset\n\n"
      ]
    },
    {
      "cell_type": "code",
      "execution_count": null,
      "metadata": {
        "collapsed": false
      },
      "outputs": [],
      "source": [
        "path, _ = examples.downloads._download_file(\"test_file.omf\")\n\nproject = omfvista.load_project(path)\nprint(project)"
      ]
    },
    {
      "cell_type": "markdown",
      "metadata": {},
      "source": [
        "Once the data is loaded as a :class:`pyvista.MultiBlock` dataset from\n``omfvista``, then that object can be directly used for interactive 3D\nvisualization from ``pyvista``:\n\n"
      ]
    },
    {
      "cell_type": "code",
      "execution_count": null,
      "metadata": {
        "collapsed": false
      },
      "outputs": [],
      "source": [
        "project.plot()"
      ]
    },
    {
      "cell_type": "markdown",
      "metadata": {},
      "source": [
        "Or an interactive scene can be created and manipulated to create a compelling\nfigure directly in a Jupyter notebook. First, grab the elements from the\nproject:\n\n"
      ]
    },
    {
      "cell_type": "code",
      "execution_count": null,
      "metadata": {
        "collapsed": false
      },
      "outputs": [],
      "source": [
        "# Grab a few elements of interest and plot em up!\nvol = project[\"Block Model\"]\nassay = project[\"wolfpass_WP_assay\"]\ntopo = project[\"Topography\"]\ndacite = project[\"Dacite\"]"
      ]
    },
    {
      "cell_type": "code",
      "execution_count": null,
      "metadata": {
        "collapsed": false
      },
      "outputs": [],
      "source": [
        "assay.set_active_scalars(\"DENSITY\")\n\np = pv.Plotter()\np.add_mesh(assay.tube(radius=3))\np.add_mesh(topo, opacity=0.5)\np.camera_position = [\n    (445542.1943310096, 491993.83439313783, 2319.4833541935445),\n    (445279.0538059701, 493496.6896061105, 2751.562316285356),\n    (-0.03677380086746433, -0.2820672798388477, 0.9586895937758338),\n]\np.show()"
      ]
    },
    {
      "cell_type": "markdown",
      "metadata": {},
      "source": [
        "Then apply a filtering tool from ``pyvista`` to the volumetric data:\n\n"
      ]
    },
    {
      "cell_type": "code",
      "execution_count": null,
      "metadata": {
        "collapsed": false
      },
      "outputs": [],
      "source": [
        "# Threshold the volumetric data\nthresh_vol = vol.threshold([1.09, 4.20])\nprint(thresh_vol)"
      ]
    },
    {
      "cell_type": "markdown",
      "metadata": {},
      "source": [
        "Then you can put it all in one environment!\n\n"
      ]
    },
    {
      "cell_type": "code",
      "execution_count": null,
      "metadata": {
        "collapsed": false
      },
      "outputs": [],
      "source": [
        "# Create a plotting window\np = pv.Plotter()\n# Add the bounds axis\np.show_grid()\np.add_bounding_box()\n\n# Add our datasets\np.add_mesh(topo, opacity=0.5)\np.add_mesh(\n    dacite,\n    color=\"orange\",\n    opacity=0.6,\n)\np.add_mesh(thresh_vol, cmap=\"coolwarm\", clim=vol.get_data_range())\n\n# Add the assay logs: use a tube filter that varius the radius by an attribute\np.add_mesh(assay.tube(radius=3), cmap=\"viridis\")\np.camera_position = [\n    (446842.54037898243, 492089.0563631193, 3229.5037597889404),\n    (445265.2503466077, 493747.3230470255, 2799.8853219866005),\n    (-0.10728419235836695, 0.1524885965210015, 0.9824649255831316),\n]\np.show()"
      ]
    }
  ],
  "metadata": {
    "kernelspec": {
      "display_name": "Python 3",
      "language": "python",
      "name": "python3"
    },
    "language_info": {
      "codemirror_mode": {
        "name": "ipython",
        "version": 3
      },
      "file_extension": ".py",
      "mimetype": "text/x-python",
      "name": "python",
      "nbconvert_exporter": "python",
      "pygments_lexer": "ipython3",
      "version": "3.7.10"
    }
  },
  "nbformat": 4,
  "nbformat_minor": 0
}